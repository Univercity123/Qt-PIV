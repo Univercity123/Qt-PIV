{
 "cells": [
  {
   "cell_type": "code",
   "execution_count": 1,
   "id": "8cfd167d-38c4-40be-afd6-276c71e95edd",
   "metadata": {},
   "outputs": [
    {
     "ename": "ModuleNotFoundError",
     "evalue": "No module named 'main_window'",
     "output_type": "error",
     "traceback": [
      "\u001b[0;31m---------------------------------------------------------------------------\u001b[0m",
      "\u001b[0;31mModuleNotFoundError\u001b[0m                       Traceback (most recent call last)",
      "Cell \u001b[0;32mIn[1], line 4\u001b[0m\n\u001b[1;32m      2\u001b[0m \u001b[38;5;28;01mimport\u001b[39;00m \u001b[38;5;21;01mos\u001b[39;00m\n\u001b[1;32m      3\u001b[0m \u001b[38;5;28;01mfrom\u001b[39;00m \u001b[38;5;21;01mPyQt5\u001b[39;00m \u001b[38;5;28;01mimport\u001b[39;00m QtWidgets\n\u001b[0;32m----> 4\u001b[0m \u001b[38;5;28;01mfrom\u001b[39;00m \u001b[38;5;21;01mmain_window\u001b[39;00m \u001b[38;5;28;01mimport\u001b[39;00m MainWindow\n",
      "\u001b[0;31mModuleNotFoundError\u001b[0m: No module named 'main_window'"
     ]
    }
   ],
   "source": [
    "import sys\n",
    "import os\n",
    "from PyQt5 import QtWidgets\n",
    "from main_window import MainWindow"
   ]
  },
  {
   "cell_type": "code",
   "execution_count": 2,
   "id": "329f1695-51c3-4862-87f1-08a61c31b3a0",
   "metadata": {},
   "outputs": [
    {
     "name": "stderr",
     "output_type": "stream",
     "text": [
      "Warning: Ignoring XDG_SESSION_TYPE=wayland on Gnome. Use QT_QPA_PLATFORM=wayland to run on Wayland anyway.\n"
     ]
    },
    {
     "ename": "NameError",
     "evalue": "name 'MainWindow' is not defined",
     "output_type": "error",
     "traceback": [
      "\u001b[0;31m---------------------------------------------------------------------------\u001b[0m",
      "\u001b[0;31mNameError\u001b[0m                                 Traceback (most recent call last)",
      "Cell \u001b[0;32mIn[2], line 8\u001b[0m\n\u001b[1;32m      6\u001b[0m app \u001b[38;5;241m=\u001b[39m QtWidgets\u001b[38;5;241m.\u001b[39mQApplication(sys\u001b[38;5;241m.\u001b[39margv)\n\u001b[1;32m      7\u001b[0m app\u001b[38;5;241m.\u001b[39msetStyle(\u001b[38;5;124m\"\u001b[39m\u001b[38;5;124mFusion\u001b[39m\u001b[38;5;124m\"\u001b[39m)\n\u001b[0;32m----> 8\u001b[0m mainWindow \u001b[38;5;241m=\u001b[39m \u001b[43mMainWindow\u001b[49m()\n\u001b[1;32m      9\u001b[0m mainWindow\u001b[38;5;241m.\u001b[39msetWindowTitle(\u001b[38;5;124m\"\u001b[39m\u001b[38;5;124mPIV - 粒子图像测速系统\u001b[39m\u001b[38;5;124m\"\u001b[39m)\n\u001b[1;32m     10\u001b[0m mainWindow\u001b[38;5;241m.\u001b[39mshow()\n",
      "\u001b[0;31mNameError\u001b[0m: name 'MainWindow' is not defined"
     ]
    }
   ],
   "source": [
    "# 解决 Qt 插件问题\n",
    "os.environ[\"QT_QPA_PLATFORM_PLUGIN_PATH\"] = \"\"\n",
    "os.environ[\"QT_QPA_PLATFORM\"] = \"xcb\"\n",
    "\n",
    "if __name__ == \"__main__\":\n",
    "    app = QtWidgets.QApplication(sys.argv)\n",
    "    app.setStyle(\"Fusion\")\n",
    "    mainWindow = MainWindow()\n",
    "    mainWindow.setWindowTitle(\"PIV - 粒子图像测速系统\")\n",
    "    mainWindow.show()\n",
    "    sys.exit(app.exec_())"
   ]
  },
  {
   "cell_type": "code",
   "execution_count": null,
   "id": "926d506a-41d7-4d15-94ea-df0a60a26b4d",
   "metadata": {},
   "outputs": [],
   "source": []
  }
 ],
 "metadata": {
  "kernelspec": {
   "display_name": "Python 3 (ipykernel)",
   "language": "python",
   "name": "python3"
  },
  "language_info": {
   "codemirror_mode": {
    "name": "ipython",
    "version": 3
   },
   "file_extension": ".py",
   "mimetype": "text/x-python",
   "name": "python",
   "nbconvert_exporter": "python",
   "pygments_lexer": "ipython3",
   "version": "3.8.0"
  }
 },
 "nbformat": 4,
 "nbformat_minor": 5
}
